{
 "cells": [
  {
   "cell_type": "markdown",
   "metadata": {},
   "source": [
    "## FILE OPERATIONS:\n",
    "\n",
    "File Hnadling is a crucial part of any programming language.Python provides built in funv=ction and methods to read and write to files ,both text and binary.The lesson will cover the basics offile handling ,including reading and writing files and binary files."
   ]
  },
  {
   "cell_type": "code",
   "execution_count": 20,
   "metadata": {},
   "outputs": [
    {
     "name": "stdout",
     "output_type": "stream",
     "text": [
      "hello world\n",
      "This is a new line\n",
      "\n"
     ]
    }
   ],
   "source": [
    "## Read and write file\n",
    "\n",
    "with open('example.txt','r') as file:\n",
    "    content=file.read()\n",
    "    print(content)"
   ]
  },
  {
   "cell_type": "code",
   "execution_count": 21,
   "metadata": {},
   "outputs": [
    {
     "name": "stdout",
     "output_type": "stream",
     "text": [
      "hello world\n",
      "\n",
      "This is a new line\n",
      "\n"
     ]
    }
   ],
   "source": [
    "##Read a file line by line\n",
    "\n",
    "with open('example.txt','r') as file:\n",
    "    for line in file:\n",
    "        print(line)\n",
    "        "
   ]
  },
  {
   "cell_type": "code",
   "execution_count": 22,
   "metadata": {},
   "outputs": [
    {
     "name": "stdout",
     "output_type": "stream",
     "text": [
      "hello world\n",
      "This is a new line\n"
     ]
    }
   ],
   "source": [
    "with open('example.txt','r') as file:\n",
    "    for line in file:\n",
    "        print(line.strip())  # strip()  removes the newline character"
   ]
  },
  {
   "cell_type": "code",
   "execution_count": 23,
   "metadata": {},
   "outputs": [],
   "source": [
    "##Writing a file(Overwritting)\n",
    "\n",
    "with open('example.txt','w') as file:\n",
    "    file.write('hello world !\\n')\n",
    "    file.write('this is a new line.')"
   ]
  },
  {
   "cell_type": "code",
   "execution_count": 24,
   "metadata": {},
   "outputs": [],
   "source": [
    "## Write a file without overwritting\n",
    "with open('example.txt','a') as file:    #here 'a' is append mode\n",
    "    file.write('Append Operatin takes place.')"
   ]
  },
  {
   "cell_type": "code",
   "execution_count": 25,
   "metadata": {},
   "outputs": [],
   "source": [
    "## writing  a list of line to a file\n",
    "lines=['first line\\n','second line\\n','third line\\n']\n",
    "with open('example.txt','a')as file:\n",
    "    file.writelines(lines)"
   ]
  },
  {
   "cell_type": "code",
   "execution_count": 26,
   "metadata": {},
   "outputs": [],
   "source": [
    "## bInary files\n",
    "data = b'\\x00\\x01\\x02\\x04'\n",
    "with open('example.bin','wb')as file:  # here 'wb means wite byte \n",
    "    file.write(data)"
   ]
  },
  {
   "cell_type": "code",
   "execution_count": 27,
   "metadata": {},
   "outputs": [
    {
     "name": "stdout",
     "output_type": "stream",
     "text": [
      "b'\\x00\\x01\\x02\\x04'\n"
     ]
    }
   ],
   "source": [
    "data = b'\\x00\\x01\\x02\\x04'\n",
    "with open('example.bin','rb')as file:  # here 'rb means read byte \n",
    "    content=file.read()\n",
    "    print(content)"
   ]
  },
  {
   "cell_type": "code",
   "execution_count": 28,
   "metadata": {},
   "outputs": [],
   "source": [
    "## Read content from a source text and write to a destination text\n",
    "##copying the text file\n",
    "with open('example.txt','r')as source_file:\n",
    "    content=source_file.read()\n",
    "with open('destination.txt','w')as destination_file:\n",
    "    content=destination_file.write(content)"
   ]
  },
  {
   "cell_type": "code",
   "execution_count": 29,
   "metadata": {},
   "outputs": [
    {
     "ename": "SyntaxError",
     "evalue": "invalid syntax (1949286531.py, line 12)",
     "output_type": "error",
     "traceback": [
      "\u001b[1;36m  Cell \u001b[1;32mIn[29], line 12\u001b[1;36m\u001b[0m\n\u001b[1;33m    print(f'Lines':{lines},'Words', {words},'Characters':{characters})\u001b[0m\n\u001b[1;37m                  ^\u001b[0m\n\u001b[1;31mSyntaxError\u001b[0m\u001b[1;31m:\u001b[0m invalid syntax\n"
     ]
    }
   ],
   "source": [
    "#read the text file and count the number of lines ,words and  character.\n",
    "def count_text_file(file_path):\n",
    "    with open(file_path,'r')as file:\n",
    "        lines = file.readlines()\n",
    "        line_count=len(lines)\n",
    "        word_count= sum(len(line.split() for line in lines))\n",
    "        char_count=sum(len(line)for line in lines)\n",
    "    return line_count,word_count,char_count\n",
    "\n",
    "file_path='example.txt'\n",
    "lines,words,characters = count_text_file(file_path)\n",
    "print(f'Lines':{lines},'Words', {words},'Characters':{characters})\n"
   ]
  },
  {
   "cell_type": "markdown",
   "metadata": {},
   "source": [
    "The W+mode in python is used to open a file for both reading and writing .If the file doesn't exists,it will bw created .if the File exists,its content is truncated"
   ]
  },
  {
   "cell_type": "code",
   "execution_count": 18,
   "metadata": {},
   "outputs": [
    {
     "name": "stdout",
     "output_type": "stream",
     "text": [
      "hello world\n",
      "This is a new line\n",
      "\n"
     ]
    }
   ],
   "source": [
    "##writing and reading a file\n",
    "\n",
    "with open('example.txt','w+')as file:\n",
    "    file.write('hello world\\n')\n",
    "    file.write(\"This is a new line\\n\")\n",
    "    \n",
    "    ## move the file cursor to the beginning for tht we use file.seek()   method\n",
    "    file.seek(0)\n",
    "    \n",
    "    ## Read the content of the file\n",
    "    content=file.read()\n",
    "    print(content)"
   ]
  },
  {
   "cell_type": "code",
   "execution_count": 42,
   "metadata": {},
   "outputs": [
    {
     "name": "stdout",
     "output_type": "stream",
     "text": [
      "Current working directory is d:\\MACHINE LEARNING\\Python basic\\file handlling\n"
     ]
    }
   ],
   "source": [
    "### Using the oos module\n",
    "import os \n",
    "cwd=os.getcwd()\n",
    "print(f\"Current working directory is {cwd}\")"
   ]
  },
  {
   "cell_type": "code",
   "execution_count": 44,
   "metadata": {},
   "outputs": [
    {
     "name": "stdout",
     "output_type": "stream",
     "text": [
      "Directory 'package' created \n"
     ]
    }
   ],
   "source": [
    "## Creating a new directory\n",
    "new_directory=\"package\"\n",
    "os.mkdir(new_directory)\n",
    "print(f\"Directory '{new_directory}' created \")"
   ]
  },
  {
   "cell_type": "code",
   "execution_count": 46,
   "metadata": {},
   "outputs": [
    {
     "name": "stdout",
     "output_type": "stream",
     "text": [
      "['destination.txt', 'example.bin', 'example.txt', 'fileoperation.ipynb', 'package']\n"
     ]
    }
   ],
   "source": [
    "##Listing all files and directories \n",
    "\n",
    "items=os.listdir('.')\n",
    "print(items)"
   ]
  },
  {
   "cell_type": "code",
   "execution_count": 48,
   "metadata": {},
   "outputs": [
    {
     "name": "stdout",
     "output_type": "stream",
     "text": [
      "folder\\file.txt\n"
     ]
    }
   ],
   "source": [
    "### Joining Paths\n",
    "\n",
    "dir_name=\"folder\"\n",
    "file_name=\"file.txt\"\n",
    "full_path=os.path.join(dir_name,file_name)   # relative path \n",
    "print(full_path)"
   ]
  },
  {
   "cell_type": "code",
   "execution_count": 49,
   "metadata": {},
   "outputs": [
    {
     "name": "stdout",
     "output_type": "stream",
     "text": [
      "d:\\MACHINE LEARNING\\Python basic\\file handlling\\folder\\file.txt\n"
     ]
    }
   ],
   "source": [
    "## get it with completely folder location\n",
    "\n",
    "dir_name=\"folder\"\n",
    "file_name=\"file.txt\"\n",
    "full_path=os.path.join(os.getcwd(),dir_name,file_name)  # complete path\n",
    "print(full_path)"
   ]
  },
  {
   "cell_type": "code",
   "execution_count": 51,
   "metadata": {},
   "outputs": [
    {
     "name": "stdout",
     "output_type": "stream",
     "text": [
      "The path 'example.txt' exist\n"
     ]
    }
   ],
   "source": [
    "##check file is present or not\n",
    "path = 'example.txt'\n",
    "if os.path.exists(path):\n",
    "    print(f\"The path '{path}' exist\")\n",
    "else:\n",
    "    print(f\"The path '{path}' doesn't exists\")"
   ]
  },
  {
   "cell_type": "code",
   "execution_count": 52,
   "metadata": {},
   "outputs": [
    {
     "name": "stdout",
     "output_type": "stream",
     "text": [
      "The File path 'example.txt' is a file\n"
     ]
    }
   ],
   "source": [
    "## Another method to  check if a  path is a file or directory\n",
    "\n",
    "import os\n",
    "path='example.txt'\n",
    "if os.path.isfile(path):\n",
    "    print(f\"The File path '{path}' is a file\")\n",
    "elif os.path.isdir(path):\n",
    "    print(f\"The file is '{path}' is a directory\")\n",
    "    \n",
    "else:\n",
    "    print(f\"The Path '{path}' is neither a file nor a directory.\")\n"
   ]
  },
  {
   "cell_type": "code",
   "execution_count": 54,
   "metadata": {},
   "outputs": [
    {
     "name": "stdout",
     "output_type": "stream",
     "text": [
      "d:\\MACHINE LEARNING\\Python basic\\file handlling\\example.txt\n"
     ]
    }
   ],
   "source": [
    "# Getting the absolute Path\n",
    "relative_path='example.txt'\n",
    "absolute_path=os.path.abspath(relative_path)\n",
    "print(absolute_path)"
   ]
  },
  {
   "cell_type": "markdown",
   "metadata": {},
   "source": [
    "## Exception Handling: \n",
    "Allows us to handle error gracefully and take corrective action without stopping the execution of the program.This lesson will  cover the basic of exceptions.including how to use try,except,else,and finally blocks.\n",
    "\n",
    "\n"
   ]
  },
  {
   "cell_type": "code",
   "execution_count": null,
   "metadata": {},
   "outputs": [],
   "source": []
  },
  {
   "cell_type": "markdown",
   "metadata": {},
   "source": [
    "## Exceptions:\n",
    "exceptions are events that distrupt the normal flow of a program.They occur when an error is encountered during program execution.Common exceptions are:\n",
    "1. ZeroDivisionError:Dividing by zero.\n",
    "2. FileNotFoundError: File not found\n",
    "3. ValueError:Invalid Value\n",
    "4. TypeError: Invalid type"
   ]
  },
  {
   "cell_type": "code",
   "execution_count": 1,
   "metadata": {},
   "outputs": [
    {
     "ename": "NameError",
     "evalue": "name 'b' is not defined",
     "output_type": "error",
     "traceback": [
      "\u001b[1;31m---------------------------------------------------------------------------\u001b[0m",
      "\u001b[1;31mNameError\u001b[0m                                 Traceback (most recent call last)",
      "Cell \u001b[1;32mIn[1], line 1\u001b[0m\n\u001b[1;32m----> 1\u001b[0m a\u001b[38;5;241m=\u001b[39m\u001b[43mb\u001b[49m  \u001b[38;5;66;03m# NameError\u001b[39;00m\n",
      "\u001b[1;31mNameError\u001b[0m: name 'b' is not defined"
     ]
    }
   ],
   "source": [
    "a=b  # NameError"
   ]
  },
  {
   "cell_type": "code",
   "execution_count": 2,
   "metadata": {},
   "outputs": [
    {
     "name": "stdout",
     "output_type": "stream",
     "text": [
      "The variable has not been assigned\n"
     ]
    }
   ],
   "source": [
    "##Exception try,except,catch block to  handel message\n",
    "\n",
    "try:\n",
    "    a=b\n",
    "except:\n",
    "    print(\"The variable has not been assigned\")"
   ]
  },
  {
   "cell_type": "code",
   "execution_count": 3,
   "metadata": {},
   "outputs": [
    {
     "name": "stdout",
     "output_type": "stream",
     "text": [
      "name 'b' is not defined\n"
     ]
    }
   ],
   "source": [
    "\n",
    "try:\n",
    "    a=b\n",
    "except NameError as ex:\n",
    "    print(ex)"
   ]
  },
  {
   "cell_type": "code",
   "execution_count": 4,
   "metadata": {},
   "outputs": [
    {
     "ename": "ZeroDivisionError",
     "evalue": "division by zero",
     "output_type": "error",
     "traceback": [
      "\u001b[1;31m---------------------------------------------------------------------------\u001b[0m",
      "\u001b[1;31mZeroDivisionError\u001b[0m                         Traceback (most recent call last)",
      "Cell \u001b[1;32mIn[4], line 1\u001b[0m\n\u001b[1;32m----> 1\u001b[0m result \u001b[38;5;241m=\u001b[39m\u001b[38;5;241;43m1\u001b[39;49m\u001b[38;5;241;43m/\u001b[39;49m\u001b[38;5;241;43m0\u001b[39;49m\n",
      "\u001b[1;31mZeroDivisionError\u001b[0m: division by zero"
     ]
    }
   ],
   "source": [
    "result =1/0"
   ]
  },
  {
   "cell_type": "code",
   "execution_count": 61,
   "metadata": {},
   "outputs": [
    {
     "name": "stdout",
     "output_type": "stream",
     "text": [
      "division by zero\n",
      "Please enter the denominator graeter than 0.\n"
     ]
    }
   ],
   "source": [
    "#Handel Above error\n",
    "try:\n",
    "    result=1/0\n",
    "except ZeroDivisionError as ex:\n",
    "    print(ex) \n",
    "    print(\"Please enter the denominator graeter than 0.\")"
   ]
  },
  {
   "cell_type": "code",
   "execution_count": 5,
   "metadata": {},
   "outputs": [
    {
     "name": "stdout",
     "output_type": "stream",
     "text": [
      "name 'b' is not defined\n",
      "The main Exception got here.\n"
     ]
    }
   ],
   "source": [
    "##\n",
    "try:\n",
    "    result=1/2\n",
    "    a=b\n",
    "except ZeroDivisionError as ex:\n",
    "    print(ex) \n",
    "    print(\"Please enter the denominator graeter than 0.\")\n",
    "except Exception as ex1:# the main parent class of the exception,and every exception is derived from this class\n",
    "    print(ex1)\n",
    "    print(\"The main Exception got here.\")"
   ]
  },
  {
   "cell_type": "code",
   "execution_count": 6,
   "metadata": {},
   "outputs": [],
   "source": [
    "try:\n",
    "    num=int(input(\"Enter a number\"))\n",
    "    result=10/num\n",
    "except ValueError:\n",
    "    print(\"This is not Valid number\")\n",
    "except ZeroDivisionError :\n",
    "    print(\"enter denominator greater than 0\")\n",
    "except Exception as ex:\n",
    "    print(ex)"
   ]
  },
  {
   "cell_type": "code",
   "execution_count": 7,
   "metadata": {},
   "outputs": [
    {
     "name": "stdout",
     "output_type": "stream",
     "text": [
      "The specific result is '2.5'\n"
     ]
    }
   ],
   "source": [
    "# Try ,Except  and else block\n",
    "try:\n",
    "    num=int(input(\"Enter a number\"))\n",
    "    result=10/num\n",
    "except ValueError:\n",
    "    print(\"This is not Valid number\")\n",
    "except ZeroDivisionError :\n",
    "    print(\"enter denominator greater than 0\")\n",
    "except Exception as ex:\n",
    "    print(ex)\n",
    "    \n",
    "else:\n",
    "    print(f\"The specific result is '{result}'\")"
   ]
  },
  {
   "cell_type": "code",
   "execution_count": 8,
   "metadata": {},
   "outputs": [
    {
     "name": "stdout",
     "output_type": "stream",
     "text": [
      "The specific result is '0.08130081300813008'\n",
      "Execution Completed\n"
     ]
    }
   ],
   "source": [
    "## try ,except,else amd finally\n",
    "try:\n",
    "    num=int(input(\"Enter a number\"))\n",
    "    result=10/num\n",
    "except ValueError:\n",
    "    print(\"This is not Valid number\")\n",
    "except ZeroDivisionError :\n",
    "    print(\"enter denominator greater than 0\")\n",
    "except Exception as ex:\n",
    "    print(ex)\n",
    "    \n",
    "else:\n",
    "    print(f\"The specific result is '{result}'\")\n",
    "    \n",
    "finally:\n",
    "    print(\"Execution Completed\")"
   ]
  },
  {
   "cell_type": "code",
   "execution_count": 14,
   "metadata": {},
   "outputs": [
    {
     "name": "stdout",
     "output_type": "stream",
     "text": [
      "name 'b' is not defined\n",
      "file close\n"
     ]
    }
   ],
   "source": [
    "### File hnaddling and Exception handling\n",
    "\n",
    "try:\n",
    "    file=open('example1.txt','r')\n",
    "    content=file.read()\n",
    "    a = b\n",
    "    print(content)\n",
    "\n",
    "except FileNotFoundError:\n",
    "    print(\"The file doesn't exists \")\n",
    "    \n",
    "except Exception as ex:\n",
    "    print(ex)\n",
    "    \n",
    "## in finally at the end of the day i have to close the file.\n",
    "## locals():Return a dictionary containing the current scope's local variables.\n",
    "finally:\n",
    "    if 'file' in locals() or not file.closed():\n",
    "        file.close()\n",
    "        print('file close')\n",
    "    "
   ]
  },
  {
   "cell_type": "code",
   "execution_count": null,
   "metadata": {},
   "outputs": [],
   "source": []
  },
  {
   "cell_type": "code",
   "execution_count": null,
   "metadata": {},
   "outputs": [],
   "source": []
  }
 ],
 "metadata": {
  "kernelspec": {
   "display_name": "base",
   "language": "python",
   "name": "python3"
  },
  "language_info": {
   "codemirror_mode": {
    "name": "ipython",
    "version": 3
   },
   "file_extension": ".py",
   "mimetype": "text/x-python",
   "name": "python",
   "nbconvert_exporter": "python",
   "pygments_lexer": "ipython3",
   "version": "3.12.4"
  }
 },
 "nbformat": 4,
 "nbformat_minor": 2
}
