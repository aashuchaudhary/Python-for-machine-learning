{
 "cells": [
  {
   "cell_type": "markdown",
   "metadata": {},
   "source": [
    "# Importing Modules in python :Modules and packages\n",
    "\n",
    "In py ,modules and packages help toorganise and reuse code .here's a comprehension guide on how to imoet them.\n"
   ]
  },
  {
   "cell_type": "code",
   "execution_count": 1,
   "metadata": {},
   "outputs": [
    {
     "data": {
      "text/plain": [
       "4.0"
      ]
     },
     "execution_count": 1,
     "metadata": {},
     "output_type": "execute_result"
    }
   ],
   "source": [
    "import math\n",
    "math.sqrt(16)"
   ]
  },
  {
   "cell_type": "code",
   "execution_count": 2,
   "metadata": {},
   "outputs": [
    {
     "name": "stdout",
     "output_type": "stream",
     "text": [
      "4.0\n",
      "5.0\n",
      "3.141592653589793\n"
     ]
    }
   ],
   "source": [
    "from math import sqrt,pi\n",
    "print(sqrt(16))\n",
    "print(sqrt(25))\n",
    "print(pi)"
   ]
  },
  {
   "cell_type": "code",
   "execution_count": 4,
   "metadata": {},
   "outputs": [
    {
     "data": {
      "text/plain": [
       "array([1, 2, 3, 4])"
      ]
     },
     "execution_count": 4,
     "metadata": {},
     "output_type": "execute_result"
    }
   ],
   "source": [
    "import numpy as np  # here np is alliase\n",
    "\n",
    "np.array([1,2,3,4])"
   ]
  },
  {
   "cell_type": "code",
   "execution_count": 5,
   "metadata": {},
   "outputs": [
    {
     "name": "stdout",
     "output_type": "stream",
     "text": [
      "3.141592653589793\n"
     ]
    }
   ],
   "source": [
    "from math import *\n",
    "sqrt(16)\n",
    "print(pi)"
   ]
  },
  {
   "cell_type": "code",
   "execution_count": 1,
   "metadata": {},
   "outputs": [
    {
     "data": {
      "text/plain": [
       "6"
      ]
     },
     "execution_count": 1,
     "metadata": {},
     "output_type": "execute_result"
    }
   ],
   "source": [
    "from package.maths import addition\n",
    "\n",
    "addition(2,4)"
   ]
  },
  {
   "cell_type": "code",
   "execution_count": 3,
   "metadata": {},
   "outputs": [
    {
     "data": {
      "text/plain": [
       "7"
      ]
     },
     "execution_count": 3,
     "metadata": {},
     "output_type": "execute_result"
    }
   ],
   "source": [
    "from package import maths\n",
    "maths.addition(3,4)"
   ]
  },
  {
   "cell_type": "markdown",
   "metadata": {},
   "source": [
    "# standard library\n",
    "py lib is vast collection of modules and packages that comes bundled with pt,\n",
    "providing a wide range of functionality out of box."
   ]
  },
  {
   "cell_type": "code",
   "execution_count": 4,
   "metadata": {},
   "outputs": [
    {
     "name": "stdout",
     "output_type": "stream",
     "text": [
      "array('i', [1, 2, 3, 4])\n"
     ]
    }
   ],
   "source": [
    "import array\n",
    "arr=array.array('i',[1,2,3,4])\n",
    "print(arr)"
   ]
  },
  {
   "cell_type": "code",
   "execution_count": 5,
   "metadata": {},
   "outputs": [
    {
     "name": "stdout",
     "output_type": "stream",
     "text": [
      "5.0\n",
      "3.141592653589793\n"
     ]
    }
   ],
   "source": [
    "import math\n",
    "print(math.sqrt(25))\n",
    "print(math.pi)"
   ]
  },
  {
   "cell_type": "code",
   "execution_count": null,
   "metadata": {},
   "outputs": [
    {
     "name": "stdout",
     "output_type": "stream",
     "text": [
      "1\n",
      "cheese\n"
     ]
    }
   ],
   "source": [
    "# Random\n",
    "\n",
    "import random \n",
    "print(random.randint(1,10))\n",
    "print(random.choice(['apple','banaan','cheese']))"
   ]
  },
  {
   "cell_type": "code",
   "execution_count": 15,
   "metadata": {},
   "outputs": [
    {
     "name": "stdout",
     "output_type": "stream",
     "text": [
      "d:\\MACHINE LEARNING\\Python basic\\Modules\n"
     ]
    }
   ],
   "source": [
    "# File and  directory Access\n",
    "\n",
    "import os\n",
    "print(os.getcwd())   #getcwd :means getting current working directory"
   ]
  },
  {
   "cell_type": "code",
   "execution_count": null,
   "metadata": {},
   "outputs": [],
   "source": [
    "os.mkdir('test_dir')   #mkdir:means making directory"
   ]
  },
  {
   "cell_type": "code",
   "execution_count": 17,
   "metadata": {},
   "outputs": [
    {
     "data": {
      "text/plain": [
       "'destination.txt'"
      ]
     },
     "execution_count": 17,
     "metadata": {},
     "output_type": "execute_result"
    }
   ],
   "source": [
    "## High leel operations on files and collection of files\n",
    "import shutil\n",
    "shutil.copyfile('source.txt','destination.txt')"
   ]
  },
  {
   "cell_type": "code",
   "execution_count": 18,
   "metadata": {},
   "outputs": [
    {
     "name": "stdout",
     "output_type": "stream",
     "text": [
      "{\"name\": \"Ashu\", \"age\": 23}\n",
      "<class 'str'>\n",
      "{'name': 'Ashu', 'age': 23}\n",
      "<class 'dict'>\n"
     ]
    }
   ],
   "source": [
    "# DAta serialization: converting dict to json , or converting dataframes to json\n",
    "\n",
    "import json\n",
    "data={'name':'Ashu','age':23}\n",
    "\n",
    "# getting data in form of string by using json.dumps\n",
    "\n",
    "json_str = json.dumps(data)\n",
    "print (json_str)\n",
    "print(type(json_str))\n",
    "\n",
    "# Converting back to dictionary using json.loads\n",
    "parsed_data=json.loads(json_str)\n",
    "print(parsed_data)\n",
    "print(type(parsed_data))"
   ]
  },
  {
   "cell_type": "code",
   "execution_count": 20,
   "metadata": {},
   "outputs": [
    {
     "name": "stdout",
     "output_type": "stream",
     "text": [
      "['name', 'age']\n",
      "['Ashu', '23']\n"
     ]
    }
   ],
   "source": [
    "# CSV format\n",
    "\n",
    "import csv \n",
    "\n",
    "# open has get the file name and the mde which we want to open it as w(write) or w+ (write Append) mode.\n",
    "with open('example.csv', mode = 'w',newline='') as file:\n",
    "    # write a function\n",
    "    writer = csv.writer(file)\n",
    "    # taking any data and writing in each row\n",
    "    writer.writerow(['name','age'])\n",
    "    writer.writerow(['Ashu',23])\n",
    "\n",
    "# this all above is ging to create a exaple .csv file\n",
    "\n",
    "# creating a csv file and now mode change to read mode.\n",
    "with open('example.csv',mode='r') as file:\n",
    "    # read the entire csv file\n",
    "    reader = csv.reader(file)\n",
    "    # since we having multiple rows\n",
    "    for row in reader:\n",
    "        print(row)\n",
    "        \n",
    "    \n",
    "    "
   ]
  },
  {
   "cell_type": "code",
   "execution_count": 21,
   "metadata": {},
   "outputs": [
    {
     "name": "stdout",
     "output_type": "stream",
     "text": [
      "2024-11-25 08:16:34.161695\n",
      "2024-11-24 08:16:34.161695\n"
     ]
    }
   ],
   "source": [
    "##datetime\n",
    "\n",
    "from datetime import datetime,timedelta\n",
    "\n",
    "# want current time\n",
    "now=datetime.now()\n",
    "print(now)\n",
    "\n",
    "# want yesterday time\n",
    "yesterday = now  - timedelta(days=1)\n",
    "print(yesterday)"
   ]
  },
  {
   "cell_type": "code",
   "execution_count": null,
   "metadata": {},
   "outputs": [
    {
     "name": "stdout",
     "output_type": "stream",
     "text": [
      "1732502925.8989356\n",
      "1732502927.899609\n"
     ]
    }
   ],
   "source": [
    "## time : writing a code and want to sleep for few seconds\n",
    "\n",
    "import time\n",
    "print(time.time())\n",
    "time.sleep(2)\n",
    "print(time.time())\n"
   ]
  },
  {
   "cell_type": "code",
   "execution_count": 23,
   "metadata": {},
   "outputs": [
    {
     "name": "stdout",
     "output_type": "stream",
     "text": [
      "123\n"
     ]
    }
   ],
   "source": [
    "## Regular Expression : helps to match a specific expression top of a sentence aswe can do it on a entire dataset\n",
    "\n",
    "import re \n",
    "\n",
    "pattern = r'\\d+'  # selecting a pattern ,here is the digits.\n",
    "text = 'there are 123 apples'\n",
    "\n",
    "# Now match the pattern\n",
    "\n",
    "match = re.search(pattern,text)\n",
    "print(match.group())"
   ]
  }
 ],
 "metadata": {
  "kernelspec": {
   "display_name": "base",
   "language": "python",
   "name": "python3"
  },
  "language_info": {
   "codemirror_mode": {
    "name": "ipython",
    "version": 3
   },
   "file_extension": ".py",
   "mimetype": "text/x-python",
   "name": "python",
   "nbconvert_exporter": "python",
   "pygments_lexer": "ipython3",
   "version": "3.12.4"
  }
 },
 "nbformat": 4,
 "nbformat_minor": 2
}
